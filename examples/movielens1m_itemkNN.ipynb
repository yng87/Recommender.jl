{
 "metadata": {
  "language_info": {
   "codemirror_mode": {
    "name": "ipython",
    "version": 3
   },
   "file_extension": ".py",
   "mimetype": "text/x-python",
   "name": "python",
   "nbconvert_exporter": "python",
   "pygments_lexer": "ipython3",
   "version": 3
  },
  "orig_nbformat": 2,
  "kernelspec": {
   "name": "julia-1.5",
   "display_name": "Julia 1.5.3",
   "language": "julia"
  }
 },
 "nbformat": 4,
 "nbformat_minor": 2,
 "cells": [
  {
   "cell_type": "code",
   "execution_count": 1,
   "metadata": {},
   "outputs": [
    {
     "output_type": "stream",
     "name": "stderr",
     "text": [
      "┌ Info: Precompiling Recommender [f1dcbcfb-0b1d-45c0-883e-2edcfc1d4c23]\n└ @ Base loading.jl:1278\n"
     ]
    }
   ],
   "source": [
    "using MLJ, Recommender"
   ]
  },
  {
   "cell_type": "code",
   "execution_count": 2,
   "metadata": {},
   "outputs": [],
   "source": [
    "d = dataset(\"movielens1m\")\n",
    "rating, user, movie = Recommender.load(d);"
   ]
  },
  {
   "cell_type": "code",
   "execution_count": 3,
   "metadata": {},
   "outputs": [],
   "source": [
    "train, test  = partition(eachindex(rating.movieid), 0.8, shuffle=true);"
   ]
  },
  {
   "cell_type": "code",
   "execution_count": 4,
   "metadata": {},
   "outputs": [],
   "source": [
    "Xs = source(rating.userid)\n",
    "ys = source(rating.movieid)\n",
    "ws = source(rating.rating);"
   ]
  },
  {
   "cell_type": "code",
   "execution_count": 5,
   "metadata": {},
   "outputs": [
    {
     "output_type": "execute_result",
     "data": {
      "text/plain": [
       "\u001b[34mMachine{kNNRecommender} @298\u001b[39m trained 0 times.\n",
       "  args: \n",
       "    1:\t\u001b[34mSource @048\u001b[39m ⏎ `AbstractArray{Count,1}`\n",
       "    2:\t\u001b[34mSource @327\u001b[39m ⏎ `AbstractArray{Count,1}`\n",
       "    3:\t\u001b[34mSource @017\u001b[39m ⏎ `AbstractArray{Count,1}`\n"
      ]
     },
     "metadata": {},
     "execution_count": 5
    }
   ],
   "source": [
    "knn_model = kNNRecommender()\n",
    "knn = machine(knn_model, Xs, ys, ws)"
   ]
  },
  {
   "cell_type": "code",
   "execution_count": 6,
   "metadata": {},
   "outputs": [
    {
     "output_type": "execute_result",
     "data": {
      "text/plain": [
       "\u001b[34mNode{Machine{kNNRecommender}} @642\u001b[39m\n",
       "  args:\n",
       "    1:\t\u001b[34mSource @048\u001b[39m\n",
       "  formula:\n",
       "    predict(\n",
       "        \u001b[0m\u001b[1m\u001b[34mMachine{kNNRecommender} @298\u001b[39m\u001b[22m, \n",
       "        \u001b[34mSource @048\u001b[39m)"
      ]
     },
     "metadata": {},
     "execution_count": 6
    }
   ],
   "source": [
    "yhat = predict(knn, Xs)"
   ]
  },
  {
   "cell_type": "code",
   "execution_count": 7,
   "metadata": {},
   "outputs": [
    {
     "output_type": "stream",
     "name": "stderr",
     "text": [
      "┌ Info: Training \u001b[34mMachine{kNNRecommender} @298\u001b[39m.\n└ @ MLJBase /Users/keisuke.yanagi/.julia/packages/MLJBase/5TNcr/src/machines.jl:319\n"
     ]
    },
    {
     "output_type": "execute_result",
     "data": {
      "text/plain": [
       "\u001b[34mNode{Machine{kNNRecommender}} @642\u001b[39m\n",
       "  args:\n",
       "    1:\t\u001b[34mSource @048\u001b[39m\n",
       "  formula:\n",
       "    predict(\n",
       "        \u001b[0m\u001b[1m\u001b[34mMachine{kNNRecommender} @298\u001b[39m\u001b[22m, \n",
       "        \u001b[34mSource @048\u001b[39m)"
      ]
     },
     "metadata": {},
     "execution_count": 7
    }
   ],
   "source": [
    "fit!(yhat, rows=train)"
   ]
  },
  {
   "cell_type": "code",
   "execution_count": 8,
   "metadata": {},
   "outputs": [
    {
     "output_type": "execute_result",
     "data": {
      "text/plain": [
       "10000-element Array{Any,1}:\n",
       " [3435, 904, 1944, 910, 950, 1260, 1252, 965, 931, 954]\n",
       " [912, 1230, 910, 1952, 1250, 898, 1207, 1953, 1263, 903]\n",
       " [1036, 480, 457, 541, 2174, 1222, 1220, 32, 50, 2804]\n",
       " [608, 260, 1200, 1225, 1222, 1304, 1240, 2871, 111, 296]\n",
       " [260, 2028, 2571, 480, 1240, 1197, 1097, 1200, 858, 2916]\n",
       " [1270, 1208, 1234, 1196, 3363, 1198, 912, 923, 1394, 1304]\n",
       " [296, 527, 318, 2858, 593, 150, 2959, 356, 2396, 1265]\n",
       " [858, 1252, 1097, 2028, 296, 589, 1240, 2571, 3471, 1265]\n",
       " [2916, 1200, 1370, 380, 165, 1374, 47, 349, 593, 1917]\n",
       " [527, 318, 1221, 1394, 1225, 3421, 111, 1097, 223, 2395]\n",
       " [1270, 1197, 919, 1097, 1265, 1294, 2918, 1221, 3471, 1225]\n",
       " [2716, 1270, 2571, 296, 592, 318, 457, 1387, 2791, 480]\n",
       " [912, 1247, 1234, 1394, 1079, 2396, 1617, 1265, 2791, 1968]\n",
       " ⋮\n",
       " [2571, 480, 110, 377, 1610, 2762, 589, 380, 1573, 349]\n",
       " [858, 1252, 1097, 2028, 296, 589, 1240, 2571, 3471, 1265]\n",
       " [1198, 919, 1250, 1263, 1259, 3421, 1200, 1278, 1193, 1674]\n",
       " [364, 2858, 356, 50, 1198, 1270, 2321, 2890, 3418, 1307]\n",
       " [1028, 924, 1035, 3471, 1304, 858, 595, 364, 899, 1225]\n",
       " [1198, 1196, 1036, 1387, 858, 593, 296, 1097, 457, 1265]\n",
       " [457, 1240, 592, 110, 589, 2194, 1, 1200, 1222, 648]\n",
       " [1210, 587, 356, 1197, 480, 1580, 367, 2628, 364, 2571]\n",
       " [1200, 1198, 919, 924, 593, 1219, 1136, 1208, 1265, 457]\n",
       " [1784, 1721, 150, 1183, 318, 2890, 2028, 1, 1213, 1641]\n",
       " [1704, 1962, 25, 1674, 1231, 337, 608, 300, 1186, 1682]\n",
       " [2628, 780, 329, 1, 1391, 1517, 1584, 2968, 1376, 3578]"
      ]
     },
     "metadata": {},
     "execution_count": 8
    }
   ],
   "source": [
    "preds = yhat(rows=test[1:10000])"
   ]
  },
  {
   "cell_type": "code",
   "execution_count": 9,
   "metadata": {},
   "outputs": [
    {
     "output_type": "execute_result",
     "data": {
      "text/plain": [
       "0.1015"
      ]
     },
     "metadata": {},
     "execution_count": 9
    }
   ],
   "source": [
    "hitrate(preds, ys()[test[1:10000]])"
   ]
  },
  {
   "cell_type": "code",
   "execution_count": null,
   "metadata": {},
   "outputs": [],
   "source": []
  }
 ]
}